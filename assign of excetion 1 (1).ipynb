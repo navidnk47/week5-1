{
 "cells": [
  {
   "cell_type": "code",
   "execution_count": null,
   "id": "7a28df56-4373-4285-9ef4-785090959c39",
   "metadata": {},
   "outputs": [],
   "source": [
    " Q1) What is an exception in python ?write the difference between exception and syntex error"
   ]
  },
  {
   "cell_type": "code",
   "execution_count": null,
   "id": "9469efbb-6de7-451e-aa1e-31de5dd630df",
   "metadata": {},
   "outputs": [],
   "source": [
    "An exception is an event that occurs during the execution of a program that disrupts the normal flow of the program's instructions. Exceptions can be caused by a variety of factors, such as invalid input, division by zero, or running out of memory. When an exception occurs, the program's execution is suspended and control is passed to a special section of code called an exception handler. The exception handler attempts to resolve the exception and resume normal program execution. If the exception cannot be resolved, the program will terminate.\n",
    "Syntax errors are errors that occur when the programmer writes code that does not conform to the rules of the programming language. Syntax errors can be detected by the compiler, which will report them to the programmer. Syntax errors can prevent the program from compiling and running.\n",
    "The main difference between an exception and a syntax error is that an exception is an event that occurs during the execution of a program, while a syntax error is an error that occurs when the programmer writes code that does not conform to the rules of the programming language."
   ]
  },
  {
   "cell_type": "code",
   "execution_count": null,
   "id": "630f271c-653c-435d-b332-edc67514466d",
   "metadata": {},
   "outputs": [],
   "source": []
  },
  {
   "cell_type": "code",
   "execution_count": null,
   "id": "a8bd32c6-c622-4190-9a63-9cecc5902448",
   "metadata": {},
   "outputs": [],
   "source": [
    "Q2). What happen when an exception is not handled ? Explain with example"
   ]
  },
  {
   "cell_type": "code",
   "execution_count": 4,
   "id": "d578cd82-28a3-4855-87a7-745e3d651290",
   "metadata": {},
   "outputs": [
    {
     "name": "stdin",
     "output_type": "stream",
     "text": [
      "Enter a number:  abc\n"
     ]
    },
    {
     "name": "stdout",
     "output_type": "stream",
     "text": [
      "Invalid input\n"
     ]
    }
   ],
   "source": [
    "try:\n",
    "    num = int(input(\"Enter a number: \"))\n",
    "except ValueError:\n",
    "    print(\"Invalid input\")"
   ]
  },
  {
   "cell_type": "code",
   "execution_count": null,
   "id": "94082806-0f2c-4caa-a20d-b8119e9979e6",
   "metadata": {},
   "outputs": [],
   "source": []
  },
  {
   "cell_type": "code",
   "execution_count": null,
   "id": "6ebfba69-ce21-4496-8f82-5a7440aaa061",
   "metadata": {},
   "outputs": [],
   "source": [
    "Q3)which python statement are used to catch and handled exception ? explain with example? "
   ]
  },
  {
   "cell_type": "code",
   "execution_count": 31,
   "id": "06d52377-7348-4f34-9fcf-c985c9642efa",
   "metadata": {},
   "outputs": [],
   "source": [
    "class validateage(Exception):\n",
    "    \n",
    "    def __init__(self , msg) : \n",
    "        self.msg = msg"
   ]
  },
  {
   "cell_type": "code",
   "execution_count": null,
   "id": "a7775c4e-6977-4965-ad25-9d0d0235e1bb",
   "metadata": {},
   "outputs": [],
   "source": [
    "def validaetage(age) : \n",
    "    if age < 0 :\n",
    "        raise validateage(\"entered age is negative \" )\n",
    "    elif age > 200 : \n",
    "        raise validateage(\"enterd age is very very high \" )\n",
    "    else :\n",
    "        print(\"age is valid\" )"
   ]
  },
  {
   "cell_type": "code",
   "execution_count": 35,
   "id": "15297e38-031f-4088-bb82-15b0ce58fc1e",
   "metadata": {},
   "outputs": [
    {
     "name": "stdin",
     "output_type": "stream",
     "text": [
      "enter your age 201\n"
     ]
    },
    {
     "name": "stdout",
     "output_type": "stream",
     "text": [
      "enterd age is very very high \n"
     ]
    }
   ],
   "source": [
    "try :\n",
    "    age = int(input(\"enter your age\" ))\n",
    "    validaetage(age)\n",
    "except validateage as e :\n",
    "    print(e)"
   ]
  },
  {
   "cell_type": "code",
   "execution_count": null,
   "id": "74039b14-3c22-4e8f-9933-6a928d0a2376",
   "metadata": {},
   "outputs": [],
   "source": []
  },
  {
   "cell_type": "code",
   "execution_count": null,
   "id": "30048de3-2468-4817-8770-3090106ea625",
   "metadata": {},
   "outputs": [],
   "source": [
    "Q4. Explain with an example:\n",
    "    a) try and else\n",
    "    b)finally\n",
    "    c)raise"
   ]
  },
  {
   "cell_type": "code",
   "execution_count": 1,
   "id": "702716f1-5e9d-4f64-b939-9f9fc5f7e2fd",
   "metadata": {},
   "outputs": [
    {
     "name": "stdout",
     "output_type": "stream",
     "text": [
      "this is my except block  [Errno 2] No such file or directory: 'test1.txt'\n"
     ]
    }
   ],
   "source": [
    "try :\n",
    "    f= open(\"test1.txt\" , 'r')\n",
    "    f.write(\" write into my file \" )\n",
    "except Exception  as e : \n",
    "    print(\"this is my except block \" , e)\n",
    "else : \n",
    "    f.close()\n",
    "    print(\" this will be executed once your try will execute without error\" )"
   ]
  },
  {
   "cell_type": "code",
   "execution_count": 3,
   "id": "44a55260-9fed-459f-8c83-8dfe6e5f9eb2",
   "metadata": {},
   "outputs": [
    {
     "name": "stdout",
     "output_type": "stream",
     "text": [
      "finally will execute itself in any situation\n"
     ]
    }
   ],
   "source": [
    "try :\n",
    "    f= open(\"test2.txt\" , 'w')\n",
    "    f.write(\"write something\")\n",
    "finally :\n",
    "    print(\"finally will execute itself in any situation\")"
   ]
  },
  {
   "cell_type": "code",
   "execution_count": 10,
   "id": "5e63d9e7-8775-4bbd-b161-f8e87f59e735",
   "metadata": {},
   "outputs": [
    {
     "ename": "IndentationError",
     "evalue": "expected an indented block after 'if' statement on line 3 (1155275216.py, line 4)",
     "output_type": "error",
     "traceback": [
      "\u001b[0;36m  Cell \u001b[0;32mIn[10], line 4\u001b[0;36m\u001b[0m\n\u001b[0;31m    raise Exception(\"Sorry, no numbers below zero\")\u001b[0m\n\u001b[0m    ^\u001b[0m\n\u001b[0;31mIndentationError\u001b[0m\u001b[0;31m:\u001b[0m expected an indented block after 'if' statement on line 3\n"
     ]
    }
   ],
   "source": [
    "x = -1\n",
    "\n",
    "if x < 0:\n",
    "raise Exception(\"Sorry, no numbers below zero\")"
   ]
  },
  {
   "cell_type": "code",
   "execution_count": null,
   "id": "418f7ad0-7d02-4ef8-963e-7eec4d33b078",
   "metadata": {},
   "outputs": [],
   "source": []
  },
  {
   "cell_type": "code",
   "execution_count": null,
   "id": "709ad0ca-02f1-4735-8a58-6814c25ec4f4",
   "metadata": {},
   "outputs": [],
   "source": []
  },
  {
   "cell_type": "code",
   "execution_count": null,
   "id": "38e6408f-e0b8-40ad-8044-8c027c28f638",
   "metadata": {},
   "outputs": [],
   "source": [
    "Q5. What are  Custom Exceptions in pthon? What do we need Custom Exceptions? Explain with an example ?"
   ]
  },
  {
   "cell_type": "code",
   "execution_count": 6,
   "id": "ddcfcd9f-41c8-4848-898c-4eed1400819a",
   "metadata": {},
   "outputs": [],
   "source": [
    "def validaetage(age) : \n",
    "    if age < 0 :\n",
    "        raise validateage(\"entered age is negative \" )\n",
    "    elif age > 200 : \n",
    "        raise validateage(\"enterd age is very very high \" )\n",
    "    else :\n",
    "        print(\"age is valid\" )"
   ]
  },
  {
   "cell_type": "code",
   "execution_count": 9,
   "id": "085f5521-d42a-44bb-81f6-86b0c365e848",
   "metadata": {},
   "outputs": [
    {
     "name": "stdin",
     "output_type": "stream",
     "text": [
      "enter your age 43\n"
     ]
    },
    {
     "name": "stdout",
     "output_type": "stream",
     "text": [
      "age is valid\n"
     ]
    }
   ],
   "source": [
    "try :\n",
    "    age = int(input(\"enter your age\" ))\n",
    "    validaetage(age)\n",
    "except validateage as e :\n",
    "    print(e)"
   ]
  },
  {
   "cell_type": "code",
   "execution_count": null,
   "id": "3a0b56c5-4384-4360-beb9-d18bdb9c3576",
   "metadata": {},
   "outputs": [],
   "source": []
  },
  {
   "cell_type": "code",
   "execution_count": null,
   "id": "3d51dfe6-3542-4a3f-8842-c828f4ccd9e4",
   "metadata": {},
   "outputs": [],
   "source": [
    "Q6)"
   ]
  },
  {
   "cell_type": "code",
   "execution_count": 11,
   "id": "d3e0f985-2c50-49a6-a98a-226b31dee697",
   "metadata": {},
   "outputs": [
    {
     "name": "stdin",
     "output_type": "stream",
     "text": [
      "Enter a number:  34\n"
     ]
    },
    {
     "name": "stdout",
     "output_type": "stream",
     "text": [
      "Eligible to Vote\n"
     ]
    }
   ],
   "source": [
    "# define Python user-defined exceptions\n",
    "class InvalidAgeException(Exception):\n",
    "    \"Raised when the input value is less than 18\"\n",
    "    pass\n",
    "\n",
    "# you need to guess this number\n",
    "number = 18\n",
    "\n",
    "try:\n",
    "    input_num = int(input(\"Enter a number: \"))\n",
    "    if input_num < number:\n",
    "        raise InvalidAgeException\n",
    "    else:\n",
    "        print(\"Eligible to Vote\")\n",
    "        \n",
    "except InvalidAgeException:\n",
    "    print(\"Exception occurred: Invalid Age\")"
   ]
  }
 ],
 "metadata": {
  "kernelspec": {
   "display_name": "Python 3 (ipykernel)",
   "language": "python",
   "name": "python3"
  },
  "language_info": {
   "codemirror_mode": {
    "name": "ipython",
    "version": 3
   },
   "file_extension": ".py",
   "mimetype": "text/x-python",
   "name": "python",
   "nbconvert_exporter": "python",
   "pygments_lexer": "ipython3",
   "version": "3.10.8"
  }
 },
 "nbformat": 4,
 "nbformat_minor": 5
}
